{
 "cells": [
  {
   "cell_type": "markdown",
   "id": "9aa13f50-0606-4fe2-a974-2a48942e7c34",
   "metadata": {
    "tags": []
   },
   "source": [
    "## Imports"
   ]
  },
  {
   "cell_type": "code",
   "execution_count": 1,
   "id": "3eb71a80-8ff7-48b1-bebe-c2700663fb1a",
   "metadata": {
    "id": "3eb71a80-8ff7-48b1-bebe-c2700663fb1a"
   },
   "outputs": [],
   "source": [
    "import json\n",
    "import csv\n",
    "import numpy as np\n",
    "import pandas as pd\n",
    "from collections import Counter"
   ]
  },
  {
   "cell_type": "code",
   "execution_count": 2,
   "id": "3eb5a18d-6606-4f12-8b4e-b0dfaef97c01",
   "metadata": {
    "id": "3eb5a18d-6606-4f12-8b4e-b0dfaef97c01"
   },
   "outputs": [],
   "source": [
    "from sklearn import linear_model\n",
    "from sklearn.metrics import mean_squared_error, r2_score, classification_report\n",
    "from sklearn.model_selection import train_test_split\n",
    "from sklearn.preprocessing import MultiLabelBinarizer\n",
    "from imblearn.over_sampling import SMOTE, SMOTEN"
   ]
  },
  {
   "cell_type": "markdown",
   "id": "c85fb658-ca23-4a92-b082-2b3edb1c6c74",
   "metadata": {
    "tags": []
   },
   "source": [
    "## Functions"
   ]
  },
  {
   "cell_type": "code",
   "execution_count": 3,
   "id": "583c8c23-4e01-4e47-bd41-e286a381c84f",
   "metadata": {
    "id": "583c8c23-4e01-4e47-bd41-e286a381c84f"
   },
   "outputs": [],
   "source": [
    "def load_dummy():\n",
    "    return np.array([np.random.randint(100, size=3) for i in range(100)]), np.array([np.random.randint(10, size=1)[0] for i in range(100)])"
   ]
  },
  {
   "cell_type": "code",
   "execution_count": 4,
   "id": "b3c47720-76b0-407c-99bb-10d75805b1a6",
   "metadata": {
    "id": "b3c47720-76b0-407c-99bb-10d75805b1a6"
   },
   "outputs": [],
   "source": [
    "def load_json(filename):\n",
    "    with open(filename) as f:\n",
    "        d = json.load(f)\n",
    "    return d[\"x\"], d[\"y\"]"
   ]
  },
  {
   "cell_type": "code",
   "execution_count": 5,
   "id": "m2DwtU8hnNgZ",
   "metadata": {
    "id": "m2DwtU8hnNgZ"
   },
   "outputs": [],
   "source": [
    "def load_csv(filename):\n",
    "    with open(filename) as f:\n",
    "        csvr = csv.reader(f)\n",
    "        rows = []\n",
    "        for r in csvr:\n",
    "            rows.append(r)\n",
    "    return rows"
   ]
  },
  {
   "cell_type": "code",
   "execution_count": 6,
   "id": "2dd74269-ba24-4ee9-baf4-e59f21fb1fb6",
   "metadata": {},
   "outputs": [],
   "source": [
    "def sigmoid(x):\n",
    "    return 1 / (1 + np.exp(-x))"
   ]
  },
  {
   "cell_type": "code",
   "execution_count": 7,
   "id": "e9fa6cf2-b33e-4d13-ba8b-a5b521dfeaa5",
   "metadata": {},
   "outputs": [],
   "source": [
    "def eval_LR(x, filename):\n",
    "    with open(filename) as f:\n",
    "        d = json.load(f)\n",
    "    p_w = d[\"w\"]\n",
    "    p_i = d[\"i\"]\n",
    "    ans = sigmoid(p_w@x + p_i)\n",
    "    if ans > 0.5:\n",
    "        return 1\n",
    "    else:\n",
    "        return 0"
   ]
  },
  {
   "cell_type": "markdown",
   "id": "16d3d284-61d5-47e7-b602-947895d3a4b4",
   "metadata": {
    "tags": []
   },
   "source": [
    "## Training"
   ]
  },
  {
   "cell_type": "code",
   "execution_count": 8,
   "id": "a9cb3949-46bf-4ef6-89e4-578a7ef18bb3",
   "metadata": {
    "id": "a9cb3949-46bf-4ef6-89e4-578a7ef18bb3"
   },
   "outputs": [],
   "source": [
    "r1 = load_csv(\"../../data/dataset_annotated_v1.csv\")\n",
    "r2 = load_csv(\"../../data/dataset_annotated_v2.csv\")\n",
    "r3 = load_csv(\"../../data/dataset_annotated_v3.csv\")\n",
    "r = r1[1:] + r2[1:] + r3[1:]"
   ]
  },
  {
   "cell_type": "code",
   "execution_count": 9,
   "id": "5c7b285d-555d-4bad-887e-2bb9fd216799",
   "metadata": {},
   "outputs": [],
   "source": [
    "SS = 0.77"
   ]
  },
  {
   "cell_type": "code",
   "execution_count": 10,
   "id": "8ede52d5-f1c7-499e-b031-765da0a65243",
   "metadata": {
    "id": "86ad0fc7-c467-42e5-912e-94fbdd6a446f"
   },
   "outputs": [
    {
     "name": "stdout",
     "output_type": "stream",
     "text": [
      "Counter({1: 1001, 0: 169})\n",
      "Counter({1: 1001, 0: 770})\n"
     ]
    }
   ],
   "source": [
    "x = []\n",
    "y = []\n",
    "\n",
    "for i in r:\n",
    "    x.append([int(j) for j in i[3:6]])\n",
    "    y.append(int(i[6]))\n",
    "\n",
    "print(Counter(y))\n",
    "\n",
    "oversample = SMOTEN(random_state=42, sampling_strategy=SS)\n",
    "x, y = oversample.fit_resample(x, y)\n",
    "\n",
    "print(Counter(y))\n",
    "\n",
    "x = np.asarray(x, dtype='float64')\n",
    "y = np.asarray(y, dtype='float64')\n",
    "\n",
    "x_train, x_test, y_train, y_test = train_test_split(x, y, test_size=0.33, random_state=42)\n",
    "\n",
    "lf = linear_model.LogisticRegression()\n",
    "\n",
    "lf.fit(x_train, y_train)\n",
    "\n",
    "x_test_0 = []\n",
    "x_test_1 = []\n",
    "y_test_0 = []\n",
    "y_test_1 = []\n",
    "\n",
    "for indx, i in enumerate(x_test):\n",
    "    if y_test[indx] == 0:\n",
    "        x_test_0.append(i)\n",
    "        y_test_0.append(0)\n",
    "    if y_test[indx] == 1:\n",
    "        x_test_1.append(i)\n",
    "        y_test_1.append(1)\n",
    "\n",
    "y_pred = lf.predict(x_test)\n",
    "y_pred_0 = lf.predict(x_test_0)\n",
    "y_pred_1 = lf.predict(x_test_1)"
   ]
  },
  {
   "cell_type": "markdown",
   "id": "7fc1c152-c1d3-4dc9-8db1-a28c84f3a65f",
   "metadata": {
    "tags": []
   },
   "source": [
    "## SS Tune"
   ]
  },
  {
   "cell_type": "code",
   "execution_count": 25,
   "id": "0f4377b4-6935-4a6e-9a28-0df430075294",
   "metadata": {},
   "outputs": [],
   "source": [
    "SS_TUNE = []"
   ]
  },
  {
   "cell_type": "code",
   "execution_count": 26,
   "id": "7319eb38-9d0f-42c7-86e8-53662e820969",
   "metadata": {},
   "outputs": [],
   "source": [
    "for SS in range(25, 101):\n",
    "    SS = float(SS)/100\n",
    "    x = []\n",
    "    y = []\n",
    "\n",
    "    for i in r:\n",
    "        x.append([int(j) for j in i[3:6]])\n",
    "        y.append(int(i[6]))\n",
    "\n",
    "    oversample = SMOTEN(random_state=42, sampling_strategy=SS)\n",
    "    x, y = oversample.fit_resample(x, y)\n",
    "\n",
    "\n",
    "    x = np.asarray(x, dtype='float64')\n",
    "    y = np.asarray(y, dtype='float64')\n",
    "\n",
    "    x_train, x_test, y_train, y_test = train_test_split(x, y, test_size=0.33, random_state=42)\n",
    "\n",
    "    lf = linear_model.LogisticRegression()\n",
    "\n",
    "    lf.fit(x_train, y_train)\n",
    "\n",
    "    x_test_0 = []\n",
    "    x_test_1 = []\n",
    "    y_test_0 = []\n",
    "    y_test_1 = []\n",
    "\n",
    "    for indx, i in enumerate(x_test):\n",
    "        if y_test[indx] == 0:\n",
    "            x_test_0.append(i)\n",
    "            y_test_0.append(0)\n",
    "        if y_test[indx] == 1:\n",
    "            x_test_1.append(i)\n",
    "            y_test_1.append(1)\n",
    "\n",
    "    y_pred = lf.predict(x_test)\n",
    "    y_pred_0 = lf.predict(x_test_0)\n",
    "    y_pred_1 = lf.predict(x_test_1)\n",
    "    SS_TUNE.append(lf.score(x_test_0, y_test_0) + lf.score(x_test_1, y_test_1))"
   ]
  },
  {
   "cell_type": "code",
   "execution_count": 27,
   "id": "80f66d18-934e-42b1-b0fd-0c93e0d078a7",
   "metadata": {},
   "outputs": [],
   "source": [
    "maxi = (0, 0)\n",
    "\n",
    "for indx, i in enumerate(SS_TUNE):\n",
    "    if i > maxi[0]:\n",
    "        maxi = (i, 25 + indx)"
   ]
  },
  {
   "cell_type": "code",
   "execution_count": 28,
   "id": "51bb21f1-a33f-4391-a8d0-f3cda716273c",
   "metadata": {},
   "outputs": [
    {
     "data": {
      "text/plain": [
       "(1.771608643457383, 77)"
      ]
     },
     "execution_count": 28,
     "metadata": {},
     "output_type": "execute_result"
    }
   ],
   "source": [
    "maxi"
   ]
  },
  {
   "cell_type": "code",
   "execution_count": 29,
   "id": "1afbd248-b154-4524-9501-7df47bc97ded",
   "metadata": {},
   "outputs": [],
   "source": [
    "SS = maxi[1]/100.0"
   ]
  },
  {
   "cell_type": "code",
   "execution_count": 30,
   "id": "0a16e417-761b-4759-b269-9c0cac065e7a",
   "metadata": {
    "id": "86ad0fc7-c467-42e5-912e-94fbdd6a446f"
   },
   "outputs": [
    {
     "name": "stdout",
     "output_type": "stream",
     "text": [
      "Counter({1: 1001, 0: 169})\n",
      "Counter({1: 1001, 0: 770})\n"
     ]
    }
   ],
   "source": [
    "x = []\n",
    "y = []\n",
    "\n",
    "for i in r:\n",
    "    x.append([int(j) for j in i[3:6]])\n",
    "    y.append(int(i[6]))\n",
    "\n",
    "print(Counter(y))\n",
    "\n",
    "oversample = SMOTEN(random_state=42, sampling_strategy=SS)\n",
    "x, y = oversample.fit_resample(x, y)\n",
    "\n",
    "print(Counter(y))\n",
    "\n",
    "x = np.asarray(x, dtype='float64')\n",
    "y = np.asarray(y, dtype='float64')\n",
    "\n",
    "x_train, x_test, y_train, y_test = train_test_split(x, y, test_size=0.33, random_state=42)\n",
    "\n",
    "lf = linear_model.LogisticRegression()\n",
    "\n",
    "lf.fit(x_train, y_train)\n",
    "\n",
    "x_test_0 = []\n",
    "x_test_1 = []\n",
    "y_test_0 = []\n",
    "y_test_1 = []\n",
    "\n",
    "for indx, i in enumerate(x_test):\n",
    "    if y_test[indx] == 0:\n",
    "        x_test_0.append(i)\n",
    "        y_test_0.append(0)\n",
    "    if y_test[indx] == 1:\n",
    "        x_test_1.append(i)\n",
    "        y_test_1.append(1)\n",
    "\n",
    "y_pred = lf.predict(x_test)\n",
    "y_pred_0 = lf.predict(x_test_0)\n",
    "y_pred_1 = lf.predict(x_test_1)"
   ]
  },
  {
   "cell_type": "markdown",
   "id": "efd38f9f-bac5-48ab-b11d-c8545748a2d2",
   "metadata": {
    "tags": []
   },
   "source": [
    "## Results"
   ]
  },
  {
   "cell_type": "code",
   "execution_count": 11,
   "id": "s4XU6CRUsopn",
   "metadata": {
    "colab": {
     "base_uri": "https://localhost:8080/"
    },
    "id": "s4XU6CRUsopn",
    "outputId": "622c074c-5ec5-4dfe-cd71-dbe36dc845ae"
   },
   "outputs": [
    {
     "name": "stdout",
     "output_type": "stream",
     "text": [
      "              precision    recall  f1-score   support\n",
      "\n",
      "         0.0       0.95      0.79      0.86       294\n",
      "         1.0       0.82      0.96      0.88       291\n",
      "\n",
      "    accuracy                           0.88       585\n",
      "   macro avg       0.89      0.88      0.87       585\n",
      "weighted avg       0.89      0.88      0.87       585\n",
      "\n"
     ]
    }
   ],
   "source": [
    "print(classification_report(y_pred, y_test))"
   ]
  },
  {
   "cell_type": "code",
   "execution_count": 12,
   "id": "MUDmHPSQtaFW",
   "metadata": {
    "colab": {
     "base_uri": "https://localhost:8080/"
    },
    "id": "MUDmHPSQtaFW",
    "outputId": "ece10cae-0c02-4759-a5d5-8f764edda7c3"
   },
   "outputs": [
    {
     "name": "stdout",
     "output_type": "stream",
     "text": [
      "              precision    recall  f1-score   support\n",
      "\n",
      "         0.0       0.95      1.00      0.97       233\n",
      "         1.0       1.00      0.00      0.00        12\n",
      "\n",
      "    accuracy                           0.95       245\n",
      "   macro avg       0.98      0.50      0.49       245\n",
      "weighted avg       0.95      0.95      0.93       245\n",
      "\n"
     ]
    }
   ],
   "source": [
    "print(classification_report(y_pred_0, y_test_0, zero_division=True))"
   ]
  },
  {
   "cell_type": "code",
   "execution_count": 14,
   "id": "FYOdHyh1tfZQ",
   "metadata": {
    "colab": {
     "base_uri": "https://localhost:8080/"
    },
    "id": "FYOdHyh1tfZQ",
    "outputId": "7b3caa24-9b25-4789-85f4-56c7a693d1e5"
   },
   "outputs": [
    {
     "name": "stdout",
     "output_type": "stream",
     "text": [
      "              precision    recall  f1-score   support\n",
      "\n",
      "         0.0       1.00      0.00      0.00        61\n",
      "         1.0       0.82      1.00      0.90       279\n",
      "\n",
      "    accuracy                           0.82       340\n",
      "   macro avg       0.91      0.50      0.45       340\n",
      "weighted avg       0.85      0.82      0.74       340\n",
      "\n"
     ]
    }
   ],
   "source": [
    "print(classification_report(y_pred_1, y_test_1, zero_division=True))"
   ]
  },
  {
   "cell_type": "code",
   "execution_count": 15,
   "id": "f30b80d8-2e98-4837-95c3-bf392379b573",
   "metadata": {},
   "outputs": [],
   "source": [
    "def print_misclass():\n",
    "    for indx, y1 in enumerate(y_pred_1):\n",
    "        if y1 != y_test_1[indx]:\n",
    "            print(x_test_1[indx])"
   ]
  },
  {
   "cell_type": "code",
   "execution_count": 16,
   "id": "9HYrkfzwpDEZ",
   "metadata": {
    "colab": {
     "base_uri": "https://localhost:8080/"
    },
    "id": "9HYrkfzwpDEZ",
    "outputId": "1380a3e5-f0da-4429-9060-2c6a7ce4f8b5"
   },
   "outputs": [
    {
     "data": {
      "text/plain": [
       "0.8752136752136752"
      ]
     },
     "execution_count": 16,
     "metadata": {},
     "output_type": "execute_result"
    }
   ],
   "source": [
    "lf.score(x_test, y_test)"
   ]
  },
  {
   "cell_type": "code",
   "execution_count": 17,
   "id": "ed3632dd-4ef7-48b5-9de3-4a6cf252e2e0",
   "metadata": {
    "colab": {
     "base_uri": "https://localhost:8080/"
    },
    "id": "ed3632dd-4ef7-48b5-9de3-4a6cf252e2e0",
    "outputId": "1202f098-0a26-40c7-ae5f-ca3ff7f489f1"
   },
   "outputs": [
    {
     "data": {
      "text/plain": [
       "(array([[-0.57813246,  0.11088761,  1.41673913]]), array([-1.69675788]))"
      ]
     },
     "execution_count": 17,
     "metadata": {},
     "output_type": "execute_result"
    }
   ],
   "source": [
    "lf.coef_, lf.intercept_"
   ]
  },
  {
   "cell_type": "code",
   "execution_count": 18,
   "id": "2fd958c0-11ad-4529-961a-b264a472a1dd",
   "metadata": {},
   "outputs": [
    {
     "data": {
      "text/plain": [
       "([-0.578132462427741, 0.11088760591222886, 1.4167391261129125],\n",
       " -1.696757879709485)"
      ]
     },
     "execution_count": 18,
     "metadata": {},
     "output_type": "execute_result"
    }
   ],
   "source": [
    "lf.coef_.tolist()[0], lf.intercept_.tolist()[0]"
   ]
  },
  {
   "cell_type": "code",
   "execution_count": 19,
   "id": "d511c1d6-8034-4866-a37c-f09f03f40c78",
   "metadata": {},
   "outputs": [],
   "source": [
    "with open(\"./weights_lr2.json\", \"w\") as f:\n",
    "    json.dump({\n",
    "        \"w\" : lf.coef_.tolist()[0],\n",
    "        \"i\": lf.intercept_.tolist()[0]\n",
    "    }, f)"
   ]
  },
  {
   "cell_type": "markdown",
   "id": "dc997c47-e9ef-4f9b-b11a-ff9eef1df897",
   "metadata": {},
   "source": [
    "## Testing"
   ]
  },
  {
   "cell_type": "code",
   "execution_count": 20,
   "id": "6a57b258-e115-45a7-b6d9-7fcc2a35cb1a",
   "metadata": {},
   "outputs": [],
   "source": [
    "filename = \"weights_lr2.json\""
   ]
  },
  {
   "cell_type": "code",
   "execution_count": 21,
   "id": "662dccff-510a-4d7d-82b2-222e78b4a971",
   "metadata": {},
   "outputs": [],
   "source": [
    "y_pred = [eval_LR(x, filename) for x in x_test]\n",
    "y_pred_0 = [eval_LR(x, filename) for x in x_test_0]\n",
    "y_pred_1 = [eval_LR(x, filename) for x in x_test_1]"
   ]
  },
  {
   "cell_type": "code",
   "execution_count": 22,
   "id": "7a6dbef8-398a-4503-a966-a4bfee5fb68f",
   "metadata": {},
   "outputs": [
    {
     "name": "stdout",
     "output_type": "stream",
     "text": [
      "              precision    recall  f1-score   support\n",
      "\n",
      "           0       0.95      0.79      0.86       294\n",
      "           1       0.82      0.96      0.88       291\n",
      "\n",
      "    accuracy                           0.88       585\n",
      "   macro avg       0.89      0.88      0.87       585\n",
      "weighted avg       0.89      0.88      0.87       585\n",
      "\n"
     ]
    }
   ],
   "source": [
    "print(classification_report(y_pred, y_test))"
   ]
  },
  {
   "cell_type": "code",
   "execution_count": 23,
   "id": "055b2214-3b86-45d1-aaac-b630e17b5fc1",
   "metadata": {},
   "outputs": [
    {
     "name": "stdout",
     "output_type": "stream",
     "text": [
      "              precision    recall  f1-score   support\n",
      "\n",
      "           0       0.95      1.00      0.97       233\n",
      "           1       1.00      0.00      0.00        12\n",
      "\n",
      "    accuracy                           0.95       245\n",
      "   macro avg       0.98      0.50      0.49       245\n",
      "weighted avg       0.95      0.95      0.93       245\n",
      "\n"
     ]
    }
   ],
   "source": [
    "print(classification_report(y_pred_0, y_test_0, zero_division=True))"
   ]
  },
  {
   "cell_type": "code",
   "execution_count": 24,
   "id": "9c11563c-8260-49ba-bab5-544871aacdc3",
   "metadata": {},
   "outputs": [
    {
     "name": "stdout",
     "output_type": "stream",
     "text": [
      "              precision    recall  f1-score   support\n",
      "\n",
      "           0       1.00      0.00      0.00        61\n",
      "           1       0.82      1.00      0.90       279\n",
      "\n",
      "    accuracy                           0.82       340\n",
      "   macro avg       0.91      0.50      0.45       340\n",
      "weighted avg       0.85      0.82      0.74       340\n",
      "\n"
     ]
    }
   ],
   "source": [
    "print(classification_report(y_pred_1, y_test_1, zero_division=True))"
   ]
  }
 ],
 "metadata": {
  "colab": {
   "collapsed_sections": [],
   "name": "LR_ESW.ipynb",
   "provenance": []
  },
  "kernelspec": {
   "display_name": "Python 3",
   "language": "python",
   "name": "python3"
  },
  "language_info": {
   "codemirror_mode": {
    "name": "ipython",
    "version": 3
   },
   "file_extension": ".py",
   "mimetype": "text/x-python",
   "name": "python",
   "nbconvert_exporter": "python",
   "pygments_lexer": "ipython3",
   "version": "3.9.7"
  }
 },
 "nbformat": 4,
 "nbformat_minor": 5
}
