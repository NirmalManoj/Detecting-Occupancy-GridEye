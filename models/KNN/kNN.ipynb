{
 "cells": [
  {
   "cell_type": "code",
   "execution_count": 41,
   "id": "93b47608",
   "metadata": {},
   "outputs": [],
   "source": [
    "# Required imports\n",
    "import numpy as np\n",
    "import pandas as pd\n",
    "from sklearn.neighbors import KNeighborsClassifier\n",
    "from sklearn.model_selection import train_test_split\n",
    "from sklearn.utils import shuffle\n",
    "from sklearn.metrics import classification_report, accuracy_score"
   ]
  },
  {
   "cell_type": "code",
   "execution_count": 42,
   "id": "c93dcd15",
   "metadata": {},
   "outputs": [],
   "source": [
    "def load_data():\n",
    "    data = pd.read_csv('../../data/dataset_annotated_v1.csv')\n",
    "    data = shuffle(data)\n",
    "    X1 = data[[\"feature_1\", \"feature_2\", \"feature_3\"]].to_numpy().astype(np.float32)\n",
    "    y1 = data[\"presence\"].to_numpy()\n",
    "    \n",
    "    data = pd.read_csv('../../data/dataset_annotated_v2.csv')\n",
    "    data = shuffle(data)\n",
    "    X2 = data[[\"feature_1\", \"feature_2\", \"feature_3\"]].to_numpy().astype(np.float32)\n",
    "    y2 = data[\"presence\"].to_numpy()\n",
    "    \n",
    "    data = pd.read_csv('../../data/dataset_annotated_v3.csv')\n",
    "    data = shuffle(data)\n",
    "    X3 = data[[\"feature_1\", \"feature_2\", \"feature_3\"]].to_numpy().astype(np.float32)\n",
    "    y3 = data[\"presence\"].to_numpy()\n",
    "    \n",
    "    X = np.concatenate((X1, X2, X3), axis=0)\n",
    "    y = np.concatenate((y1, y2, y3), axis=None)\n",
    "    X_train, X_test, y_train, y_test = train_test_split(X, y, test_size=0.33, random_state=321)\n",
    "    return X_train, X_test, y_train, y_test"
   ]
  },
  {
   "cell_type": "code",
   "execution_count": 43,
   "id": "3babba38",
   "metadata": {},
   "outputs": [],
   "source": [
    "def get_metrics(y_true, y_pred):\n",
    "    result1 = classification_report(y_true, y_pred)\n",
    "    print('Classification Report: ', result1)\n",
    "    result2 = accuracy_score(y_true, y_pred)\n",
    "    print('Accuracy: ', result2, \"\\n\\n\")"
   ]
  },
  {
   "cell_type": "code",
   "execution_count": 44,
   "id": "84680b82",
   "metadata": {},
   "outputs": [],
   "source": [
    "from imblearn.over_sampling import SMOTE, SMOTEN\n",
    "\n",
    "# Oversample data \n",
    "def balance_data(xx, yy, ratio):\n",
    "    smote = SMOTE(sampling_strategy=ratio)\n",
    "    return smote.fit_resample(xx, yy)"
   ]
  },
  {
   "cell_type": "code",
   "execution_count": 45,
   "id": "85927771",
   "metadata": {},
   "outputs": [
    {
     "data": {
      "text/plain": [
       "KNeighborsClassifier(n_neighbors=3)"
      ]
     },
     "execution_count": 45,
     "metadata": {},
     "output_type": "execute_result"
    }
   ],
   "source": [
    "# Model training\n",
    "X_train, X_test, y_train, y_test = load_data()\n",
    "X_train, y_train = balance_data(X_train, y_train, 0.33)\n",
    "model = KNeighborsClassifier(n_neighbors = 3)\n",
    "model.fit(X_train, y_train)"
   ]
  },
  {
   "cell_type": "code",
   "execution_count": 46,
   "id": "7a10d829",
   "metadata": {},
   "outputs": [],
   "source": [
    "def knn_evaluate_test_data():\n",
    "    global model, X_test, y_test\n",
    "    y_test_pred = model.predict(X_test)\n",
    "    get_metrics(y_test, y_test_pred)"
   ]
  },
  {
   "cell_type": "code",
   "execution_count": 47,
   "id": "06f957e5",
   "metadata": {},
   "outputs": [],
   "source": [
    "def knn_evaluate_sample(x):\n",
    "    global model\n",
    "    return model.predict(np.array([x,]))[0]"
   ]
  },
  {
   "cell_type": "code",
   "execution_count": 48,
   "id": "90bd857b",
   "metadata": {},
   "outputs": [
    {
     "name": "stdout",
     "output_type": "stream",
     "text": [
      "Classification Report:                precision    recall  f1-score   support\n",
      "\n",
      "           0       0.79      0.67      0.73        67\n",
      "           1       0.93      0.96      0.95       320\n",
      "\n",
      "    accuracy                           0.91       387\n",
      "   macro avg       0.86      0.82      0.84       387\n",
      "weighted avg       0.91      0.91      0.91       387\n",
      "\n",
      "Accuracy:  0.9121447028423773 \n",
      "\n",
      "\n"
     ]
    }
   ],
   "source": [
    "knn_evaluate_test_data()"
   ]
  },
  {
   "cell_type": "code",
   "execution_count": 49,
   "id": "89d1c16a",
   "metadata": {},
   "outputs": [],
   "source": [
    "# knn_evaluate_sample(np.array([4, 4, 1]))"
   ]
  }
 ],
 "metadata": {
  "kernelspec": {
   "display_name": "Python 3 (ipykernel)",
   "language": "python",
   "name": "python3"
  },
  "language_info": {
   "codemirror_mode": {
    "name": "ipython",
    "version": 3
   },
   "file_extension": ".py",
   "mimetype": "text/x-python",
   "name": "python",
   "nbconvert_exporter": "python",
   "pygments_lexer": "ipython3",
   "version": "3.9.5"
  }
 },
 "nbformat": 4,
 "nbformat_minor": 5
}
